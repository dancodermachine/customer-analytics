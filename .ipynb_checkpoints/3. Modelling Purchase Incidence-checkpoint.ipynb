{
 "cells": [
  {
   "cell_type": "markdown",
   "metadata": {},
   "source": [
    "# Modeling Purchase Incidence"
   ]
  },
  {
   "cell_type": "code",
   "execution_count": 1,
   "metadata": {},
   "outputs": [],
   "source": [
    "import numpy as np\n",
    "import pandas as pd\n",
    "import matplotlib.pyplot as plt\n",
    "import seaborn as sns\n",
    "\n",
    "from sklearn.preprocessing import StandardScaler\n",
    "from sklearn.decomposition import PCA\n",
    "from sklearn.cluster import KMeans\n",
    "from sklearn.linear_model import LogisticRegression\n",
    "\n",
    "import pickle"
   ]
  },
  {
   "cell_type": "markdown",
   "metadata": {},
   "source": [
    "**Loading Models**"
   ]
  },
  {
   "cell_type": "code",
   "execution_count": 2,
   "metadata": {},
   "outputs": [],
   "source": [
    "#Importing models\n",
    "scaler = pickle.load(open('Segmentation Models/scaler.pickle', 'rb'))\n",
    "pca_3 = pickle.load(open('Segmentation Models/pca.pickle', 'rb'))\n",
    "kmeans = pickle.load(open('Segmentation Models/kmeans_pca.pickle','rb'))"
   ]
  },
  {
   "cell_type": "markdown",
   "metadata": {},
   "source": [
    "**Preparing Data**"
   ]
  },
  {
   "cell_type": "code",
   "execution_count": 3,
   "metadata": {},
   "outputs": [
    {
     "data": {
      "text/html": [
       "<div>\n",
       "<style scoped>\n",
       "    .dataframe tbody tr th:only-of-type {\n",
       "        vertical-align: middle;\n",
       "    }\n",
       "\n",
       "    .dataframe tbody tr th {\n",
       "        vertical-align: top;\n",
       "    }\n",
       "\n",
       "    .dataframe thead th {\n",
       "        text-align: right;\n",
       "    }\n",
       "</style>\n",
       "<table border=\"1\" class=\"dataframe\">\n",
       "  <thead>\n",
       "    <tr style=\"text-align: right;\">\n",
       "      <th></th>\n",
       "      <th>ID</th>\n",
       "      <th>Day</th>\n",
       "      <th>Incidence</th>\n",
       "      <th>Brand</th>\n",
       "      <th>Quantity</th>\n",
       "      <th>Last_Inc_Brand</th>\n",
       "      <th>Last_Inc_Quantity</th>\n",
       "      <th>Price_1</th>\n",
       "      <th>Price_2</th>\n",
       "      <th>Price_3</th>\n",
       "      <th>...</th>\n",
       "      <th>Marital status</th>\n",
       "      <th>Age</th>\n",
       "      <th>Education</th>\n",
       "      <th>Income</th>\n",
       "      <th>Occupation</th>\n",
       "      <th>Settlement size</th>\n",
       "      <th>Cluster_0</th>\n",
       "      <th>Cluster_1</th>\n",
       "      <th>Cluster_2</th>\n",
       "      <th>Cluster_3</th>\n",
       "    </tr>\n",
       "  </thead>\n",
       "  <tbody>\n",
       "    <tr>\n",
       "      <th>0</th>\n",
       "      <td>200000001</td>\n",
       "      <td>1</td>\n",
       "      <td>0</td>\n",
       "      <td>0</td>\n",
       "      <td>0</td>\n",
       "      <td>0</td>\n",
       "      <td>0</td>\n",
       "      <td>1.59</td>\n",
       "      <td>1.87</td>\n",
       "      <td>2.01</td>\n",
       "      <td>...</td>\n",
       "      <td>0</td>\n",
       "      <td>47</td>\n",
       "      <td>1</td>\n",
       "      <td>110866</td>\n",
       "      <td>1</td>\n",
       "      <td>0</td>\n",
       "      <td>0</td>\n",
       "      <td>1</td>\n",
       "      <td>0</td>\n",
       "      <td>0</td>\n",
       "    </tr>\n",
       "    <tr>\n",
       "      <th>1</th>\n",
       "      <td>200000001</td>\n",
       "      <td>11</td>\n",
       "      <td>0</td>\n",
       "      <td>0</td>\n",
       "      <td>0</td>\n",
       "      <td>0</td>\n",
       "      <td>0</td>\n",
       "      <td>1.51</td>\n",
       "      <td>1.89</td>\n",
       "      <td>1.99</td>\n",
       "      <td>...</td>\n",
       "      <td>0</td>\n",
       "      <td>47</td>\n",
       "      <td>1</td>\n",
       "      <td>110866</td>\n",
       "      <td>1</td>\n",
       "      <td>0</td>\n",
       "      <td>0</td>\n",
       "      <td>1</td>\n",
       "      <td>0</td>\n",
       "      <td>0</td>\n",
       "    </tr>\n",
       "    <tr>\n",
       "      <th>2</th>\n",
       "      <td>200000001</td>\n",
       "      <td>12</td>\n",
       "      <td>0</td>\n",
       "      <td>0</td>\n",
       "      <td>0</td>\n",
       "      <td>0</td>\n",
       "      <td>0</td>\n",
       "      <td>1.51</td>\n",
       "      <td>1.89</td>\n",
       "      <td>1.99</td>\n",
       "      <td>...</td>\n",
       "      <td>0</td>\n",
       "      <td>47</td>\n",
       "      <td>1</td>\n",
       "      <td>110866</td>\n",
       "      <td>1</td>\n",
       "      <td>0</td>\n",
       "      <td>0</td>\n",
       "      <td>1</td>\n",
       "      <td>0</td>\n",
       "      <td>0</td>\n",
       "    </tr>\n",
       "    <tr>\n",
       "      <th>3</th>\n",
       "      <td>200000001</td>\n",
       "      <td>16</td>\n",
       "      <td>0</td>\n",
       "      <td>0</td>\n",
       "      <td>0</td>\n",
       "      <td>0</td>\n",
       "      <td>0</td>\n",
       "      <td>1.52</td>\n",
       "      <td>1.89</td>\n",
       "      <td>1.98</td>\n",
       "      <td>...</td>\n",
       "      <td>0</td>\n",
       "      <td>47</td>\n",
       "      <td>1</td>\n",
       "      <td>110866</td>\n",
       "      <td>1</td>\n",
       "      <td>0</td>\n",
       "      <td>0</td>\n",
       "      <td>1</td>\n",
       "      <td>0</td>\n",
       "      <td>0</td>\n",
       "    </tr>\n",
       "    <tr>\n",
       "      <th>4</th>\n",
       "      <td>200000001</td>\n",
       "      <td>18</td>\n",
       "      <td>0</td>\n",
       "      <td>0</td>\n",
       "      <td>0</td>\n",
       "      <td>0</td>\n",
       "      <td>0</td>\n",
       "      <td>1.52</td>\n",
       "      <td>1.89</td>\n",
       "      <td>1.99</td>\n",
       "      <td>...</td>\n",
       "      <td>0</td>\n",
       "      <td>47</td>\n",
       "      <td>1</td>\n",
       "      <td>110866</td>\n",
       "      <td>1</td>\n",
       "      <td>0</td>\n",
       "      <td>0</td>\n",
       "      <td>1</td>\n",
       "      <td>0</td>\n",
       "      <td>0</td>\n",
       "    </tr>\n",
       "    <tr>\n",
       "      <th>...</th>\n",
       "      <td>...</td>\n",
       "      <td>...</td>\n",
       "      <td>...</td>\n",
       "      <td>...</td>\n",
       "      <td>...</td>\n",
       "      <td>...</td>\n",
       "      <td>...</td>\n",
       "      <td>...</td>\n",
       "      <td>...</td>\n",
       "      <td>...</td>\n",
       "      <td>...</td>\n",
       "      <td>...</td>\n",
       "      <td>...</td>\n",
       "      <td>...</td>\n",
       "      <td>...</td>\n",
       "      <td>...</td>\n",
       "      <td>...</td>\n",
       "      <td>...</td>\n",
       "      <td>...</td>\n",
       "      <td>...</td>\n",
       "      <td>...</td>\n",
       "    </tr>\n",
       "    <tr>\n",
       "      <th>58688</th>\n",
       "      <td>200000500</td>\n",
       "      <td>703</td>\n",
       "      <td>0</td>\n",
       "      <td>0</td>\n",
       "      <td>0</td>\n",
       "      <td>2</td>\n",
       "      <td>1</td>\n",
       "      <td>1.41</td>\n",
       "      <td>1.85</td>\n",
       "      <td>2.01</td>\n",
       "      <td>...</td>\n",
       "      <td>0</td>\n",
       "      <td>42</td>\n",
       "      <td>1</td>\n",
       "      <td>120946</td>\n",
       "      <td>1</td>\n",
       "      <td>0</td>\n",
       "      <td>0</td>\n",
       "      <td>1</td>\n",
       "      <td>0</td>\n",
       "      <td>0</td>\n",
       "    </tr>\n",
       "    <tr>\n",
       "      <th>58689</th>\n",
       "      <td>200000500</td>\n",
       "      <td>710</td>\n",
       "      <td>0</td>\n",
       "      <td>0</td>\n",
       "      <td>0</td>\n",
       "      <td>0</td>\n",
       "      <td>0</td>\n",
       "      <td>1.36</td>\n",
       "      <td>1.84</td>\n",
       "      <td>2.09</td>\n",
       "      <td>...</td>\n",
       "      <td>0</td>\n",
       "      <td>42</td>\n",
       "      <td>1</td>\n",
       "      <td>120946</td>\n",
       "      <td>1</td>\n",
       "      <td>0</td>\n",
       "      <td>0</td>\n",
       "      <td>1</td>\n",
       "      <td>0</td>\n",
       "      <td>0</td>\n",
       "    </tr>\n",
       "    <tr>\n",
       "      <th>58690</th>\n",
       "      <td>200000500</td>\n",
       "      <td>717</td>\n",
       "      <td>0</td>\n",
       "      <td>0</td>\n",
       "      <td>0</td>\n",
       "      <td>0</td>\n",
       "      <td>0</td>\n",
       "      <td>1.50</td>\n",
       "      <td>1.80</td>\n",
       "      <td>2.14</td>\n",
       "      <td>...</td>\n",
       "      <td>0</td>\n",
       "      <td>42</td>\n",
       "      <td>1</td>\n",
       "      <td>120946</td>\n",
       "      <td>1</td>\n",
       "      <td>0</td>\n",
       "      <td>0</td>\n",
       "      <td>1</td>\n",
       "      <td>0</td>\n",
       "      <td>0</td>\n",
       "    </tr>\n",
       "    <tr>\n",
       "      <th>58691</th>\n",
       "      <td>200000500</td>\n",
       "      <td>722</td>\n",
       "      <td>1</td>\n",
       "      <td>2</td>\n",
       "      <td>3</td>\n",
       "      <td>0</td>\n",
       "      <td>0</td>\n",
       "      <td>1.51</td>\n",
       "      <td>1.82</td>\n",
       "      <td>2.09</td>\n",
       "      <td>...</td>\n",
       "      <td>0</td>\n",
       "      <td>42</td>\n",
       "      <td>1</td>\n",
       "      <td>120946</td>\n",
       "      <td>1</td>\n",
       "      <td>0</td>\n",
       "      <td>0</td>\n",
       "      <td>1</td>\n",
       "      <td>0</td>\n",
       "      <td>0</td>\n",
       "    </tr>\n",
       "    <tr>\n",
       "      <th>58692</th>\n",
       "      <td>200000500</td>\n",
       "      <td>726</td>\n",
       "      <td>0</td>\n",
       "      <td>0</td>\n",
       "      <td>0</td>\n",
       "      <td>2</td>\n",
       "      <td>1</td>\n",
       "      <td>1.51</td>\n",
       "      <td>1.82</td>\n",
       "      <td>2.09</td>\n",
       "      <td>...</td>\n",
       "      <td>0</td>\n",
       "      <td>42</td>\n",
       "      <td>1</td>\n",
       "      <td>120946</td>\n",
       "      <td>1</td>\n",
       "      <td>0</td>\n",
       "      <td>0</td>\n",
       "      <td>1</td>\n",
       "      <td>0</td>\n",
       "      <td>0</td>\n",
       "    </tr>\n",
       "  </tbody>\n",
       "</table>\n",
       "<p>58693 rows × 28 columns</p>\n",
       "</div>"
      ],
      "text/plain": [
       "              ID  Day  Incidence  Brand  Quantity  Last_Inc_Brand  \\\n",
       "0      200000001    1          0      0         0               0   \n",
       "1      200000001   11          0      0         0               0   \n",
       "2      200000001   12          0      0         0               0   \n",
       "3      200000001   16          0      0         0               0   \n",
       "4      200000001   18          0      0         0               0   \n",
       "...          ...  ...        ...    ...       ...             ...   \n",
       "58688  200000500  703          0      0         0               2   \n",
       "58689  200000500  710          0      0         0               0   \n",
       "58690  200000500  717          0      0         0               0   \n",
       "58691  200000500  722          1      2         3               0   \n",
       "58692  200000500  726          0      0         0               2   \n",
       "\n",
       "       Last_Inc_Quantity  Price_1  Price_2  Price_3  ...  Marital status  Age  \\\n",
       "0                      0     1.59     1.87     2.01  ...               0   47   \n",
       "1                      0     1.51     1.89     1.99  ...               0   47   \n",
       "2                      0     1.51     1.89     1.99  ...               0   47   \n",
       "3                      0     1.52     1.89     1.98  ...               0   47   \n",
       "4                      0     1.52     1.89     1.99  ...               0   47   \n",
       "...                  ...      ...      ...      ...  ...             ...  ...   \n",
       "58688                  1     1.41     1.85     2.01  ...               0   42   \n",
       "58689                  0     1.36     1.84     2.09  ...               0   42   \n",
       "58690                  0     1.50     1.80     2.14  ...               0   42   \n",
       "58691                  0     1.51     1.82     2.09  ...               0   42   \n",
       "58692                  1     1.51     1.82     2.09  ...               0   42   \n",
       "\n",
       "       Education  Income  Occupation  Settlement size  Cluster_0  Cluster_1  \\\n",
       "0              1  110866           1                0          0          1   \n",
       "1              1  110866           1                0          0          1   \n",
       "2              1  110866           1                0          0          1   \n",
       "3              1  110866           1                0          0          1   \n",
       "4              1  110866           1                0          0          1   \n",
       "...          ...     ...         ...              ...        ...        ...   \n",
       "58688          1  120946           1                0          0          1   \n",
       "58689          1  120946           1                0          0          1   \n",
       "58690          1  120946           1                0          0          1   \n",
       "58691          1  120946           1                0          0          1   \n",
       "58692          1  120946           1                0          0          1   \n",
       "\n",
       "       Cluster_2  Cluster_3  \n",
       "0              0          0  \n",
       "1              0          0  \n",
       "2              0          0  \n",
       "3              0          0  \n",
       "4              0          0  \n",
       "...          ...        ...  \n",
       "58688          0          0  \n",
       "58689          0          0  \n",
       "58690          0          0  \n",
       "58691          0          0  \n",
       "58692          0          0  \n",
       "\n",
       "[58693 rows x 28 columns]"
      ]
     },
     "execution_count": 3,
     "metadata": {},
     "output_type": "execute_result"
    }
   ],
   "source": [
    "#Load data\n",
    "df_chocolate = pd.read_csv('Data/purchase data.csv')\n",
    "\n",
    "df_features = df_chocolate[df_chocolate.columns.values[-7:]]\n",
    "scale_values = scaler.transform(df_features)\n",
    "pca_values = pca_3.transform(scale_values)\n",
    "segments = kmeans.predict(pca_values)\n",
    "\n",
    "df_chocolate['Cluster'] = segments\n",
    "dummies = pd.get_dummies(df_chocolate['Cluster'], prefix='Cluster')\n",
    "df_chocolate_predict = df_chocolate.copy()\n",
    "df_chocolate_predict.drop(columns=['Cluster'], inplace=True)\n",
    "df_purchase_predictors = pd.concat([df_chocolate_predict, dummies], axis=1)\n",
    "df_purchase_predictors"
   ]
  },
  {
   "cell_type": "code",
   "execution_count": 4,
   "metadata": {},
   "outputs": [
    {
     "data": {
      "text/plain": [
       "Index(['ID', 'Day', 'Incidence', 'Brand', 'Quantity', 'Last_Inc_Brand',\n",
       "       'Last_Inc_Quantity', 'Price_1', 'Price_2', 'Price_3', 'Price_4',\n",
       "       'Price_5', 'Promotion_1', 'Promotion_2', 'Promotion_3', 'Promotion_4',\n",
       "       'Promotion_5', 'Sex', 'Marital status', 'Age', 'Education', 'Income',\n",
       "       'Occupation', 'Settlement size', 'Cluster_0', 'Cluster_1', 'Cluster_2',\n",
       "       'Cluster_3'],\n",
       "      dtype='object')"
      ]
     },
     "execution_count": 4,
     "metadata": {},
     "output_type": "execute_result"
    }
   ],
   "source": [
    "df_purchase_predictors.columns"
   ]
  },
  {
   "cell_type": "markdown",
   "metadata": {},
   "source": [
    "### Purchase Probability Model"
   ]
  },
  {
   "cell_type": "code",
   "execution_count": 5,
   "metadata": {},
   "outputs": [],
   "source": [
    "Y = df_purchase_predictors['Incidence'].values\n",
    "x = df_purchase_predictors[['Price_1','Price_2','Price_3','Price_4','Price_5']].mean(axis=1).values.reshape(-1,1)"
   ]
  },
  {
   "cell_type": "code",
   "execution_count": 6,
   "metadata": {},
   "outputs": [
    {
     "data": {
      "text/plain": [
       "LogisticRegression(C=1.0, class_weight=None, dual=False, fit_intercept=True,\n",
       "                   intercept_scaling=1, l1_ratio=None, max_iter=100,\n",
       "                   multi_class='auto', n_jobs=None, penalty='l2',\n",
       "                   random_state=None, solver='sag', tol=0.0001, verbose=0,\n",
       "                   warm_start=False)"
      ]
     },
     "execution_count": 6,
     "metadata": {},
     "output_type": "execute_result"
    }
   ],
   "source": [
    "model_purchase = LogisticRegression(solver='sag')\n",
    "model_purchase.fit(x, Y)"
   ]
  },
  {
   "cell_type": "markdown",
   "metadata": {},
   "source": [
    "Coefficient for price is negative which means that a decrease in price will lead to an increase in purchase probability."
   ]
  },
  {
   "cell_type": "code",
   "execution_count": 7,
   "metadata": {},
   "outputs": [
    {
     "data": {
      "text/plain": [
       "array([[-2.34793291]])"
      ]
     },
     "execution_count": 7,
     "metadata": {},
     "output_type": "execute_result"
    }
   ],
   "source": [
    "model_purchase.coef_"
   ]
  },
  {
   "cell_type": "markdown",
   "metadata": {},
   "source": [
    "**Price Elasticity of Purchase Probability**\n",
    "\n",
    "Price elasticity of purchase probability is % change in purchase probability in response to 1% change in price.\n",
    "\n",
    "The change in purchase probability given a price is `model_purchase.coef_`"
   ]
  },
  {
   "cell_type": "code",
   "execution_count": 8,
   "metadata": {},
   "outputs": [
    {
     "data": {
      "text/html": [
       "<div>\n",
       "<style scoped>\n",
       "    .dataframe tbody tr th:only-of-type {\n",
       "        vertical-align: middle;\n",
       "    }\n",
       "\n",
       "    .dataframe tbody tr th {\n",
       "        vertical-align: top;\n",
       "    }\n",
       "\n",
       "    .dataframe thead th {\n",
       "        text-align: right;\n",
       "    }\n",
       "</style>\n",
       "<table border=\"1\" class=\"dataframe\">\n",
       "  <thead>\n",
       "    <tr style=\"text-align: right;\">\n",
       "      <th></th>\n",
       "      <th>Price_1</th>\n",
       "      <th>Price_2</th>\n",
       "      <th>Price_3</th>\n",
       "      <th>Price_4</th>\n",
       "      <th>Price_5</th>\n",
       "    </tr>\n",
       "  </thead>\n",
       "  <tbody>\n",
       "    <tr>\n",
       "      <th>count</th>\n",
       "      <td>58693.000000</td>\n",
       "      <td>58693.000000</td>\n",
       "      <td>58693.000000</td>\n",
       "      <td>58693.000000</td>\n",
       "      <td>58693.000000</td>\n",
       "    </tr>\n",
       "    <tr>\n",
       "      <th>mean</th>\n",
       "      <td>1.392074</td>\n",
       "      <td>1.780999</td>\n",
       "      <td>2.006789</td>\n",
       "      <td>2.159945</td>\n",
       "      <td>2.654798</td>\n",
       "    </tr>\n",
       "    <tr>\n",
       "      <th>std</th>\n",
       "      <td>0.091139</td>\n",
       "      <td>0.170868</td>\n",
       "      <td>0.046867</td>\n",
       "      <td>0.089825</td>\n",
       "      <td>0.098272</td>\n",
       "    </tr>\n",
       "    <tr>\n",
       "      <th>min</th>\n",
       "      <td>1.100000</td>\n",
       "      <td>1.260000</td>\n",
       "      <td>1.870000</td>\n",
       "      <td>1.760000</td>\n",
       "      <td>2.110000</td>\n",
       "    </tr>\n",
       "    <tr>\n",
       "      <th>25%</th>\n",
       "      <td>1.340000</td>\n",
       "      <td>1.580000</td>\n",
       "      <td>1.970000</td>\n",
       "      <td>2.120000</td>\n",
       "      <td>2.630000</td>\n",
       "    </tr>\n",
       "    <tr>\n",
       "      <th>50%</th>\n",
       "      <td>1.390000</td>\n",
       "      <td>1.880000</td>\n",
       "      <td>2.010000</td>\n",
       "      <td>2.170000</td>\n",
       "      <td>2.670000</td>\n",
       "    </tr>\n",
       "    <tr>\n",
       "      <th>75%</th>\n",
       "      <td>1.470000</td>\n",
       "      <td>1.890000</td>\n",
       "      <td>2.060000</td>\n",
       "      <td>2.240000</td>\n",
       "      <td>2.700000</td>\n",
       "    </tr>\n",
       "    <tr>\n",
       "      <th>max</th>\n",
       "      <td>1.590000</td>\n",
       "      <td>1.900000</td>\n",
       "      <td>2.140000</td>\n",
       "      <td>2.260000</td>\n",
       "      <td>2.800000</td>\n",
       "    </tr>\n",
       "  </tbody>\n",
       "</table>\n",
       "</div>"
      ],
      "text/plain": [
       "            Price_1       Price_2       Price_3       Price_4       Price_5\n",
       "count  58693.000000  58693.000000  58693.000000  58693.000000  58693.000000\n",
       "mean       1.392074      1.780999      2.006789      2.159945      2.654798\n",
       "std        0.091139      0.170868      0.046867      0.089825      0.098272\n",
       "min        1.100000      1.260000      1.870000      1.760000      2.110000\n",
       "25%        1.340000      1.580000      1.970000      2.120000      2.630000\n",
       "50%        1.390000      1.880000      2.010000      2.170000      2.670000\n",
       "75%        1.470000      1.890000      2.060000      2.240000      2.700000\n",
       "max        1.590000      1.900000      2.140000      2.260000      2.800000"
      ]
     },
     "execution_count": 8,
     "metadata": {},
     "output_type": "execute_result"
    }
   ],
   "source": [
    "df_purchase_predictors[['Price_1', 'Price_2', 'Price_3', 'Price_4', 'Price_5']].describe()"
   ]
  },
  {
   "cell_type": "code",
   "execution_count": 9,
   "metadata": {},
   "outputs": [
    {
     "data": {
      "text/plain": [
       "300"
      ]
     },
     "execution_count": 9,
     "metadata": {},
     "output_type": "execute_result"
    }
   ],
   "source": [
    "price_range = np.arange(0.5, 3.5, 0.01)\n",
    "len(price_range)"
   ]
  },
  {
   "cell_type": "code",
   "execution_count": 10,
   "metadata": {},
   "outputs": [],
   "source": [
    "Y_prob = model_purchase.predict_proba(price_range.reshape(-1,1))"
   ]
  },
  {
   "cell_type": "code",
   "execution_count": 11,
   "metadata": {},
   "outputs": [],
   "source": [
    "elasticity_values = model_purchase.coef_[:,0] * price_range * (1 - Y_prob[:,1])"
   ]
  },
  {
   "cell_type": "code",
   "execution_count": 12,
   "metadata": {},
   "outputs": [
    {
     "data": {
      "text/plain": [
       "array([-0.09635514, -0.10042134, -0.10461446, -0.10893766, -0.11339413,\n",
       "       -0.11798714, -0.12271998, -0.12759602, -0.13261866, -0.13779136,\n",
       "       -0.14311762, -0.148601  , -0.15424509, -0.16005354, -0.16603005,\n",
       "       -0.17217834, -0.17850221, -0.18500546, -0.19169196, -0.1985656 ,\n",
       "       -0.20563033, -0.2128901 , -0.22034892, -0.22801083, -0.23587988,\n",
       "       -0.24396016, -0.25225579, -0.2607709 , -0.26950963, -0.27847615,\n",
       "       -0.28767465, -0.29710932, -0.30678434, -0.31670391, -0.32687225,\n",
       "       -0.33729353, -0.34797194, -0.35891166, -0.37011685, -0.38159165,\n",
       "       -0.39334016, -0.40536648, -0.41767465, -0.4302687 , -0.44315258,\n",
       "       -0.45633024, -0.46980553, -0.48358228, -0.49766423, -0.51205507,\n",
       "       -0.52675841, -0.54177778, -0.55711663, -0.57277833, -0.58876613,\n",
       "       -0.60508319, -0.62173259, -0.63871727, -0.65604005, -0.67370364,\n",
       "       -0.69171063, -0.71006346, -0.72876443, -0.74781572, -0.76721933,\n",
       "       -0.78697713, -0.80709081, -0.82756191, -0.8483918 , -0.86958167,\n",
       "       -0.89113254, -0.91304523, -0.93532039, -0.95795848, -0.98095975,\n",
       "       -1.00432428, -1.02805191, -1.05214231, -1.07659493, -1.10140901,\n",
       "       -1.12658359, -1.15211748, -1.17800929, -1.20425742, -1.23086004,\n",
       "       -1.2578151 , -1.28512035, -1.31277333, -1.34077133, -1.36911146,\n",
       "       -1.3977906 , -1.42680543, -1.45615241, -1.4858278 , -1.51582765,\n",
       "       -1.54614781, -1.57678395, -1.60773152, -1.6389858 , -1.67054188,\n",
       "       -1.70239466, -1.73453889, -1.76696913, -1.79967977, -1.83266508,\n",
       "       -1.86591914, -1.89943591, -1.93320919, -1.96723267, -2.00149991,\n",
       "       -2.03600435, -2.07073934, -2.10569809, -2.14087376, -2.17625941,\n",
       "       -2.211848  , -2.24763247, -2.28360564, -2.31976033, -2.3560893 ,\n",
       "       -2.39258524, -2.42924087, -2.46604885, -2.50300184, -2.54009249,\n",
       "       -2.57731347, -2.61465745, -2.65211712, -2.68968519, -2.72735443,\n",
       "       -2.76511763, -2.80296762, -2.84089732, -2.87889968, -2.91696773,\n",
       "       -2.95509458, -2.99327341, -3.03149749, -3.06976017, -3.10805493,\n",
       "       -3.14637532, -3.18471501, -3.22306777, -3.26142749, -3.29978819,\n",
       "       -3.33814399, -3.37648915, -3.41481805, -3.45312521, -3.49140528,\n",
       "       -3.52965304, -3.5678634 , -3.60603144, -3.64415235, -3.68222147,\n",
       "       -3.72023429, -3.75818643, -3.79607367, -3.83389191, -3.87163723,\n",
       "       -3.90930581, -3.94689401, -3.98439832, -4.02181537, -4.05914193,\n",
       "       -4.0963749 , -4.13351135, -4.17054846, -4.20748356, -4.24431409,\n",
       "       -4.28103767, -4.317652  , -4.35415493, -4.39054445, -4.42681866,\n",
       "       -4.46297577, -4.49901413, -4.5349322 , -4.57072855, -4.60640187,\n",
       "       -4.64195096, -4.67737472, -4.71267216, -4.74784239, -4.78288461,\n",
       "       -4.81779813, -4.85258235, -4.88723675, -4.92176092, -4.95615452,\n",
       "       -4.99041728, -5.02454904, -5.0585497 , -5.09241923, -5.12615768,\n",
       "       -5.15976517, -5.19324188, -5.22658806, -5.25980402, -5.29289013,\n",
       "       -5.32584681, -5.35867454, -5.39137385, -5.42394532, -5.45638959,\n",
       "       -5.48870731, -5.52089922, -5.55296605, -5.58490861, -5.61672773,\n",
       "       -5.64842428, -5.67999914, -5.71145324, -5.74278756, -5.77400306,\n",
       "       -5.80510076, -5.83608168, -5.8669469 , -5.89769747, -5.92833449,\n",
       "       -5.95885908, -5.98927236, -6.01957547, -6.04976957, -6.07985582,\n",
       "       -6.10983541, -6.1397095 , -6.16947932, -6.19914604, -6.22871088,\n",
       "       -6.25817506, -6.28753979, -6.3168063 , -6.34597579, -6.3750495 ,\n",
       "       -6.40402865, -6.43291447, -6.46170818, -6.49041099, -6.51902413,\n",
       "       -6.54754881, -6.57598625, -6.60433765, -6.63260421, -6.66078713,\n",
       "       -6.6888876 , -6.71690681, -6.74484594, -6.77270615, -6.8004886 ,\n",
       "       -6.82819446, -6.85582486, -6.88338096, -6.91086386, -6.9382747 ,\n",
       "       -6.96561458, -6.99288461, -7.02008586, -7.04721943, -7.07428638,\n",
       "       -7.10128777, -7.12822464, -7.15509803, -7.18190897, -7.20865848,\n",
       "       -7.23534754, -7.26197717, -7.28854832, -7.31506198, -7.34151911,\n",
       "       -7.36792063, -7.3942675 , -7.42056062, -7.44680091, -7.47298927,\n",
       "       -7.49912658, -7.52521373, -7.55125156, -7.57724093, -7.60318269,\n",
       "       -7.62907765, -7.65492664, -7.68073046, -7.70648991, -7.73220576,\n",
       "       -7.75787878, -7.78350974, -7.80909938, -7.83464844, -7.86015764,\n",
       "       -7.88562771, -7.91105933, -7.93645321, -7.96181004, -7.98713047,\n",
       "       -8.01241517, -8.03766479, -8.06287998, -8.08806136, -8.11320955])"
      ]
     },
     "execution_count": 12,
     "metadata": {},
     "output_type": "execute_result"
    }
   ],
   "source": [
    "elasticity_values"
   ]
  },
  {
   "cell_type": "code",
   "execution_count": 13,
   "metadata": {},
   "outputs": [
    {
     "data": {
      "text/html": [
       "<div>\n",
       "<style scoped>\n",
       "    .dataframe tbody tr th:only-of-type {\n",
       "        vertical-align: middle;\n",
       "    }\n",
       "\n",
       "    .dataframe tbody tr th {\n",
       "        vertical-align: top;\n",
       "    }\n",
       "\n",
       "    .dataframe thead th {\n",
       "        text-align: right;\n",
       "    }\n",
       "</style>\n",
       "<table border=\"1\" class=\"dataframe\">\n",
       "  <thead>\n",
       "    <tr style=\"text-align: right;\">\n",
       "      <th></th>\n",
       "      <th>price</th>\n",
       "      <th>elasticity</th>\n",
       "    </tr>\n",
       "  </thead>\n",
       "  <tbody>\n",
       "    <tr>\n",
       "      <th>0</th>\n",
       "      <td>0.50</td>\n",
       "      <td>-0.096355</td>\n",
       "    </tr>\n",
       "    <tr>\n",
       "      <th>1</th>\n",
       "      <td>0.51</td>\n",
       "      <td>-0.100421</td>\n",
       "    </tr>\n",
       "    <tr>\n",
       "      <th>2</th>\n",
       "      <td>0.52</td>\n",
       "      <td>-0.104614</td>\n",
       "    </tr>\n",
       "    <tr>\n",
       "      <th>3</th>\n",
       "      <td>0.53</td>\n",
       "      <td>-0.108938</td>\n",
       "    </tr>\n",
       "    <tr>\n",
       "      <th>4</th>\n",
       "      <td>0.54</td>\n",
       "      <td>-0.113394</td>\n",
       "    </tr>\n",
       "  </tbody>\n",
       "</table>\n",
       "</div>"
      ],
      "text/plain": [
       "   price  elasticity\n",
       "0   0.50   -0.096355\n",
       "1   0.51   -0.100421\n",
       "2   0.52   -0.104614\n",
       "3   0.53   -0.108938\n",
       "4   0.54   -0.113394"
      ]
     },
     "execution_count": 13,
     "metadata": {},
     "output_type": "execute_result"
    }
   ],
   "source": [
    "df_elasticity_purchase = pd.DataFrame({'price':price_range, 'elasticity':elasticity_values})\n",
    "df_elasticity_purchase.head()"
   ]
  },
  {
   "cell_type": "code",
   "execution_count": 14,
   "metadata": {},
   "outputs": [
    {
     "data": {
      "image/png": "[encoded data removed]",
      "text/plain": [
       "<Figure size 648x432 with 1 Axes>"
      ]
     },
     "metadata": {
      "needs_background": "light"
     },
     "output_type": "display_data"
    }
   ],
   "source": [
    "plt.figure(figsize=(9,6))\n",
    "plt.plot(price_range, elasticity_values)\n",
    "plt.ylabel('Elasticity')\n",
    "plt.xlabel('Price')\n",
    "plt.title('Price Elasticity of Purchase Probability')\n",
    "plt.xlim([0.5, 3.5])\n",
    "plt.ylim([-10, 1])\n",
    "plt.axhline(y=-1, color='red', linestyle='--')\n",
    "plt.axvline(x=1.24, color='red', linestyle='--');"
   ]
  },
  {
   "cell_type": "markdown",
   "metadata": {},
   "source": [
    "* |E| < 1, inelastic\n",
    "* otherwise, elastic\n",
    "\n",
    "For inelastic values, we rise the price."
   ]
  },
  {
   "cell_type": "markdown",
   "metadata": {},
   "source": [
    "### Purchase Probability By Segments"
   ]
  },
  {
   "cell_type": "code",
   "execution_count": 15,
   "metadata": {},
   "outputs": [],
   "source": [
    "def elasticity(cluster_name):\n",
    "    \n",
    "    cluster_key = {'well-off':0, 'fewer-opportunities':1, 'standard':2, 'career-focused':3}\n",
    "    \n",
    "    \n",
    "    cluster_df = df_chocolate[df_chocolate['Cluster']==cluster_key[cluster_name]]\n",
    "    Y = cluster_df['Incidence'].values\n",
    "    x = cluster_df[['Price_1','Price_2','Price_3','Price_4','Price_5']].mean(axis=1).values.reshape(-1,1)\n",
    "    model_purchase = LogisticRegression(solver='sag')\n",
    "    model_purchase.fit(x, Y)\n",
    "    \n",
    "    Y_prob = model_purchase.predict_proba(price_range.reshape(-1,1))\n",
    "    elasticity = model_purchase.coef_[:,0] * price_range * (1 - Y_prob[:,1])\n",
    "    \n",
    "    return elasticity"
   ]
  },
  {
   "cell_type": "markdown",
   "metadata": {},
   "source": [
    "**Segment 1 - Well-Off**"
   ]
  },
  {
   "cell_type": "code",
   "execution_count": 16,
   "metadata": {},
   "outputs": [],
   "source": [
    "elasticity_welloff = elasticity('well-off')"
   ]
  },
  {
   "cell_type": "markdown",
   "metadata": {},
   "source": [
    "**Segment 2 - Fewer-Opportunities**"
   ]
  },
  {
   "cell_type": "code",
   "execution_count": 17,
   "metadata": {},
   "outputs": [],
   "source": [
    "elasticity_feweropp = elasticity('fewer-opportunities')"
   ]
  },
  {
   "cell_type": "markdown",
   "metadata": {},
   "source": [
    "**Segment 3 - Standard**"
   ]
  },
  {
   "cell_type": "code",
   "execution_count": 18,
   "metadata": {},
   "outputs": [],
   "source": [
    "elasticity_standard = elasticity('standard')"
   ]
  },
  {
   "cell_type": "markdown",
   "metadata": {},
   "source": [
    "**Segment 4 - Career-Focused**"
   ]
  },
  {
   "cell_type": "code",
   "execution_count": 19,
   "metadata": {},
   "outputs": [],
   "source": [
    "elasticity_focused = elasticity('career-focused')"
   ]
  },
  {
   "cell_type": "markdown",
   "metadata": {},
   "source": [
    "**Final Graph**"
   ]
  },
  {
   "cell_type": "code",
   "execution_count": 20,
   "metadata": {},
   "outputs": [
    {
     "data": {
      "image/png": "[encoded data removed]",
      "text/plain": [
       "<Figure size 720x504 with 1 Axes>"
      ]
     },
     "metadata": {
      "needs_background": "light"
     },
     "output_type": "display_data"
    }
   ],
   "source": [
    "df_elasticities = pd.DataFrame({'price':price_range,\n",
    "                   'elasticity':elasticity_values,\n",
    "                   'elasticity welloff':elasticity_welloff,\n",
    "                   'elasticity feweropp': elasticity_feweropp,\n",
    "                   'elasticity standard': elasticity_standard,\n",
    "                   'elasticity careerfoc': elasticity_focused})\n",
    "\n",
    "plt.figure(figsize=(10,7))\n",
    "plt.plot('price', 'elasticity', data=df_elasticities)\n",
    "plt.plot('price', 'elasticity welloff', data=df_elasticities)\n",
    "plt.plot('price', 'elasticity feweropp', data=df_elasticities)\n",
    "plt.plot('price', 'elasticity standard', data=df_elasticities)\n",
    "plt.plot('price', 'elasticity careerfoc', data=df_elasticities)\n",
    "plt.ylabel('Elasticity')\n",
    "plt.xlabel('Price')\n",
    "plt.title('Price Elasticity of Purchase Probability')\n",
    "plt.axhline(y=-1, color='red', linestyle='--')\n",
    "plt.legend();"
   ]
  },
  {
   "cell_type": "markdown",
   "metadata": {},
   "source": [
    "### Purchase Probability with Promotion Feature"
   ]
  },
  {
   "cell_type": "code",
   "execution_count": 21,
   "metadata": {},
   "outputs": [
    {
     "data": {
      "text/plain": [
       "LogisticRegression(C=1.0, class_weight=None, dual=False, fit_intercept=True,\n",
       "                   intercept_scaling=1, l1_ratio=None, max_iter=100,\n",
       "                   multi_class='auto', n_jobs=None, penalty='l2',\n",
       "                   random_state=None, solver='sag', tol=0.0001, verbose=0,\n",
       "                   warm_start=False)"
      ]
     },
     "execution_count": 21,
     "metadata": {},
     "output_type": "execute_result"
    }
   ],
   "source": [
    "Y = df_purchase_predictors['Incidence'].values\n",
    "x_1 = df_purchase_predictors[['Price_1','Price_2','Price_3','Price_4','Price_5']].mean(axis=1).values\n",
    "x_2 = df_purchase_predictors[['Promotion_1','Promotion_2','Promotion_3','Promotion_4','Promotion_5']].mean(axis=1).values\n",
    "new_df = pd.DataFrame({'Y':Y, 'x1_price':x_1, 'x2_promotion':x_2})\n",
    "model_purchase_promo = LogisticRegression(solver='sag')\n",
    "model_purchase_promo.fit(new_df[['x1_price', 'x2_promotion']], Y)"
   ]
  },
  {
   "cell_type": "code",
   "execution_count": 22,
   "metadata": {},
   "outputs": [
    {
     "data": {
      "text/plain": [
       "array([[-1.49406268,  0.5616402 ]])"
      ]
     },
     "execution_count": 22,
     "metadata": {},
     "output_type": "execute_result"
    }
   ],
   "source": [
    "#price coeffcient, promotion coefficient\n",
    "model_purchase_promo.coef_"
   ]
  },
  {
   "cell_type": "markdown",
   "metadata": {},
   "source": [
    "* Case 1: promotional activities for all brands\n",
    "* Case 2: no promotional activites"
   ]
  },
  {
   "cell_type": "markdown",
   "metadata": {},
   "source": [
    "**With Promotion**"
   ]
  },
  {
   "cell_type": "code",
   "execution_count": 31,
   "metadata": {},
   "outputs": [],
   "source": [
    "with_promotion = np.ones_like(price_range)"
   ]
  },
  {
   "cell_type": "code",
   "execution_count": 34,
   "metadata": {},
   "outputs": [],
   "source": [
    "X_promotion = pd.DataFrame({'price':price_range, 'promotion':with_promotion})"
   ]
  },
  {
   "cell_type": "code",
   "execution_count": 43,
   "metadata": {},
   "outputs": [],
   "source": [
    "#Probability that someone will buy given a promotion\n",
    "Y_with_promotion = model_purchase_promo.predict_proba(X_promotion)"
   ]
  },
  {
   "cell_type": "code",
   "execution_count": 44,
   "metadata": {},
   "outputs": [],
   "source": [
    "price_elasticity_with_promotion = (model_purchase_promo.coef_[:,0] * price_range) * (1- Y_with_promotion[:,1])"
   ]
  },
  {
   "cell_type": "markdown",
   "metadata": {},
   "source": [
    "**No Promotion**"
   ]
  },
  {
   "cell_type": "code",
   "execution_count": 52,
   "metadata": {},
   "outputs": [],
   "source": [
    "no_promotion = np.zeros_like(price_range)"
   ]
  },
  {
   "cell_type": "code",
   "execution_count": 53,
   "metadata": {},
   "outputs": [],
   "source": [
    "X_no_promotion = pd.DataFrame({'price':price_range, 'promotion':no_promotion})"
   ]
  },
  {
   "cell_type": "code",
   "execution_count": 54,
   "metadata": {},
   "outputs": [],
   "source": [
    "Y_withno_promotion = model_purchase_promo.predict_proba(X_no_promotion)"
   ]
  },
  {
   "cell_type": "code",
   "execution_count": 55,
   "metadata": {},
   "outputs": [],
   "source": [
    "price_elasticity_withno_promotion = (model_purchase_promo.coef_[:,0] * price_range) * (1- Y_withno_promotion[:,1])"
   ]
  },
  {
   "cell_type": "markdown",
   "metadata": {},
   "source": [
    "**Graph**"
   ]
  },
  {
   "cell_type": "code",
   "execution_count": 61,
   "metadata": {},
   "outputs": [],
   "source": [
    "df_k = pd.DataFrame({'price_range':price_range,\n",
    "                     'pe_promotion':price_elasticity_with_promotion,\n",
    "                     'pe_nopromotion':price_elasticity_withno_promotion})"
   ]
  },
  {
   "cell_type": "code",
   "execution_count": 63,
   "metadata": {},
   "outputs": [
    {
     "data": {
      "image/png": "[encoded data removed]",
      "text/plain": [
       "<Figure size 720x648 with 1 Axes>"
      ]
     },
     "metadata": {
      "needs_background": "light"
     },
     "output_type": "display_data"
    }
   ],
   "source": [
    "plt.figure(figsize=(10,9))\n",
    "plt.plot('price_range', 'pe_promotion', data=df_k)\n",
    "plt.plot('price_range', 'pe_nopromotion', data=df_k)\n",
    "plt.legend()\n",
    "plt.xlabel('Price')\n",
    "plt.ylabel('Elasticity');"
   ]
  },
  {
   "cell_type": "code",
   "execution_count": 73,
   "metadata": {},
   "outputs": [
    {
     "data": {
      "text/html": [
       "<div>\n",
       "<style scoped>\n",
       "    .dataframe tbody tr th:only-of-type {\n",
       "        vertical-align: middle;\n",
       "    }\n",
       "\n",
       "    .dataframe tbody tr th {\n",
       "        vertical-align: top;\n",
       "    }\n",
       "\n",
       "    .dataframe thead th {\n",
       "        text-align: right;\n",
       "    }\n",
       "</style>\n",
       "<table border=\"1\" class=\"dataframe\">\n",
       "  <thead>\n",
       "    <tr style=\"text-align: right;\">\n",
       "      <th></th>\n",
       "      <th>price_range</th>\n",
       "      <th>pe_promotion</th>\n",
       "      <th>pe_nopromotion</th>\n",
       "    </tr>\n",
       "  </thead>\n",
       "  <tbody>\n",
       "    <tr>\n",
       "      <th>77</th>\n",
       "      <td>1.27</td>\n",
       "      <td>-0.739878</td>\n",
       "      <td>-1.002767</td>\n",
       "    </tr>\n",
       "    <tr>\n",
       "      <th>78</th>\n",
       "      <td>1.28</td>\n",
       "      <td>-0.752512</td>\n",
       "      <td>-1.017779</td>\n",
       "    </tr>\n",
       "    <tr>\n",
       "      <th>79</th>\n",
       "      <td>1.29</td>\n",
       "      <td>-0.765274</td>\n",
       "      <td>-1.032896</td>\n",
       "    </tr>\n",
       "    <tr>\n",
       "      <th>80</th>\n",
       "      <td>1.30</td>\n",
       "      <td>-0.778164</td>\n",
       "      <td>-1.048116</td>\n",
       "    </tr>\n",
       "    <tr>\n",
       "      <th>81</th>\n",
       "      <td>1.31</td>\n",
       "      <td>-0.791182</td>\n",
       "      <td>-1.063439</td>\n",
       "    </tr>\n",
       "    <tr>\n",
       "      <th>82</th>\n",
       "      <td>1.32</td>\n",
       "      <td>-0.804328</td>\n",
       "      <td>-1.078863</td>\n",
       "    </tr>\n",
       "    <tr>\n",
       "      <th>83</th>\n",
       "      <td>1.33</td>\n",
       "      <td>-0.817601</td>\n",
       "      <td>-1.094387</td>\n",
       "    </tr>\n",
       "    <tr>\n",
       "      <th>84</th>\n",
       "      <td>1.34</td>\n",
       "      <td>-0.831001</td>\n",
       "      <td>-1.110011</td>\n",
       "    </tr>\n",
       "    <tr>\n",
       "      <th>85</th>\n",
       "      <td>1.35</td>\n",
       "      <td>-0.844529</td>\n",
       "      <td>-1.125733</td>\n",
       "    </tr>\n",
       "    <tr>\n",
       "      <th>86</th>\n",
       "      <td>1.36</td>\n",
       "      <td>-0.858182</td>\n",
       "      <td>-1.141552</td>\n",
       "    </tr>\n",
       "    <tr>\n",
       "      <th>87</th>\n",
       "      <td>1.37</td>\n",
       "      <td>-0.871962</td>\n",
       "      <td>-1.157467</td>\n",
       "    </tr>\n",
       "    <tr>\n",
       "      <th>88</th>\n",
       "      <td>1.38</td>\n",
       "      <td>-0.885867</td>\n",
       "      <td>-1.173477</td>\n",
       "    </tr>\n",
       "    <tr>\n",
       "      <th>89</th>\n",
       "      <td>1.39</td>\n",
       "      <td>-0.899898</td>\n",
       "      <td>-1.189582</td>\n",
       "    </tr>\n",
       "    <tr>\n",
       "      <th>90</th>\n",
       "      <td>1.40</td>\n",
       "      <td>-0.914053</td>\n",
       "      <td>-1.205778</td>\n",
       "    </tr>\n",
       "    <tr>\n",
       "      <th>91</th>\n",
       "      <td>1.41</td>\n",
       "      <td>-0.928333</td>\n",
       "      <td>-1.222067</td>\n",
       "    </tr>\n",
       "    <tr>\n",
       "      <th>92</th>\n",
       "      <td>1.42</td>\n",
       "      <td>-0.942736</td>\n",
       "      <td>-1.238445</td>\n",
       "    </tr>\n",
       "    <tr>\n",
       "      <th>93</th>\n",
       "      <td>1.43</td>\n",
       "      <td>-0.957263</td>\n",
       "      <td>-1.254913</td>\n",
       "    </tr>\n",
       "    <tr>\n",
       "      <th>94</th>\n",
       "      <td>1.44</td>\n",
       "      <td>-0.971913</td>\n",
       "      <td>-1.271469</td>\n",
       "    </tr>\n",
       "    <tr>\n",
       "      <th>95</th>\n",
       "      <td>1.45</td>\n",
       "      <td>-0.986684</td>\n",
       "      <td>-1.288112</td>\n",
       "    </tr>\n",
       "    <tr>\n",
       "      <th>96</th>\n",
       "      <td>1.46</td>\n",
       "      <td>-1.001577</td>\n",
       "      <td>-1.304840</td>\n",
       "    </tr>\n",
       "  </tbody>\n",
       "</table>\n",
       "</div>"
      ],
      "text/plain": [
       "    price_range  pe_promotion  pe_nopromotion\n",
       "77         1.27     -0.739878       -1.002767\n",
       "78         1.28     -0.752512       -1.017779\n",
       "79         1.29     -0.765274       -1.032896\n",
       "80         1.30     -0.778164       -1.048116\n",
       "81         1.31     -0.791182       -1.063439\n",
       "82         1.32     -0.804328       -1.078863\n",
       "83         1.33     -0.817601       -1.094387\n",
       "84         1.34     -0.831001       -1.110011\n",
       "85         1.35     -0.844529       -1.125733\n",
       "86         1.36     -0.858182       -1.141552\n",
       "87         1.37     -0.871962       -1.157467\n",
       "88         1.38     -0.885867       -1.173477\n",
       "89         1.39     -0.899898       -1.189582\n",
       "90         1.40     -0.914053       -1.205778\n",
       "91         1.41     -0.928333       -1.222067\n",
       "92         1.42     -0.942736       -1.238445\n",
       "93         1.43     -0.957263       -1.254913\n",
       "94         1.44     -0.971913       -1.271469\n",
       "95         1.45     -0.986684       -1.288112\n",
       "96         1.46     -1.001577       -1.304840"
      ]
     },
     "execution_count": 73,
     "metadata": {},
     "output_type": "execute_result"
    }
   ],
   "source": [
    "df_k[df_k['pe_promotion']>=-1.01].tail(20)"
   ]
  },
  {
   "cell_type": "markdown",
   "metadata": {},
   "source": [
    "It would be more beneficial to have a high original price and constant promotion"
   ]
  },
  {
   "cell_type": "code",
   "execution_count": null,
   "metadata": {},
   "outputs": [],
   "source": []
  }
 ],
 "metadata": {
  "kernelspec": {
   "display_name": "Python 3",
   "language": "python",
   "name": "python3"
  },
  "language_info": {
   "codemirror_mode": {
    "name": "ipython",
    "version": 3
   },
   "file_extension": ".py",
   "mimetype": "text/x-python",
   "name": "python",
   "nbconvert_exporter": "python",
   "pygments_lexer": "ipython3",
   "version": "3.7.6"
  }
 },
 "nbformat": 4,
 "nbformat_minor": 4
}
